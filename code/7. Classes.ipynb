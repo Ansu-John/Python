{
 "cells": [
  {
   "cell_type": "markdown",
   "metadata": {},
   "source": [
    "# Python Classes/Objects\n",
    "\n",
    "Python is an object oriented programming language. Almost everything in Python is an object, with its properties and methods. A Class is like an object constructor, or a \"blueprint\" for creating objects.\n",
    "\n",
    "## Class\n",
    "\n",
    "To create a class, use the keyword class"
   ]
  },
  {
   "cell_type": "markdown",
   "metadata": {},
   "source": [
    "### The __init__() function\n",
    "\n",
    "All classes have a function called __init__(), which is always executed when the class is being initiated(**Constructor method for a class**). Use the __init__() function to assign values to object properties, or other operations that are necessary to do when the object is being created. \n",
    "\n",
    "### The self Parameter\n",
    "\n",
    "The self parameter is a reference to the current instance of the class, and is used to access variables that belongs to the class. It does not have to be named self , you can call it whatever you like, but it has to be the first parameter of any function in the class."
   ]
  },
  {
   "cell_type": "code",
   "execution_count": 1,
   "metadata": {},
   "outputs": [],
   "source": [
    "class Dog:\n",
    "    def __init__(self,name):\n",
    "        self.name = name\n",
    "        print(\"Object with name {} is created\".format(name))#interpolation\n",
    "        \n",
    "    def talk(self):\n",
    "        print(\"woof\")\n",
    "    \n",
    "    def printName(self):\n",
    "        print(\"My name is {}\".format(self.name)) "
   ]
  },
  {
   "cell_type": "markdown",
   "metadata": {},
   "source": [
    "## Object\n",
    "\n",
    "Once a class is created, it can be used to create objects. "
   ]
  },
  {
   "cell_type": "code",
   "execution_count": 2,
   "metadata": {},
   "outputs": [
    {
     "name": "stdout",
     "output_type": "stream",
     "text": [
      "Object with name Charlie is created\n",
      "Object with name Bruno is created\n"
     ]
    }
   ],
   "source": [
    "charlie = Dog(\"Charlie\")\n",
    "bruno = Dog(\"Bruno\") "
   ]
  },
  {
   "cell_type": "code",
   "execution_count": 3,
   "metadata": {},
   "outputs": [
    {
     "name": "stdout",
     "output_type": "stream",
     "text": [
      "woof\n"
     ]
    }
   ],
   "source": [
    "charlie.talk()"
   ]
  },
  {
   "cell_type": "code",
   "execution_count": 4,
   "metadata": {},
   "outputs": [
    {
     "name": "stdout",
     "output_type": "stream",
     "text": [
      "My name is Charlie\n"
     ]
    }
   ],
   "source": [
    "charlie.printName()"
   ]
  },
  {
   "cell_type": "code",
   "execution_count": 5,
   "metadata": {},
   "outputs": [
    {
     "name": "stdout",
     "output_type": "stream",
     "text": [
      "woof\n"
     ]
    }
   ],
   "source": [
    "bruno.talk()"
   ]
  },
  {
   "cell_type": "code",
   "execution_count": 6,
   "metadata": {},
   "outputs": [
    {
     "name": "stdout",
     "output_type": "stream",
     "text": [
      "My name is Bruno\n"
     ]
    }
   ],
   "source": [
    "bruno.printName()"
   ]
  },
  {
   "cell_type": "code",
   "execution_count": 7,
   "metadata": {},
   "outputs": [
    {
     "name": "stdout",
     "output_type": "stream",
     "text": [
      "<__main__.Dog object at 0x000002125E83B850>\n"
     ]
    }
   ],
   "source": [
    "print(charlie)"
   ]
  },
  {
   "cell_type": "code",
   "execution_count": 8,
   "metadata": {},
   "outputs": [
    {
     "name": "stdout",
     "output_type": "stream",
     "text": [
      "<__main__.Dog object at 0x000002125E83BAF0>\n"
     ]
    }
   ],
   "source": [
    "print(bruno)"
   ]
  },
  {
   "cell_type": "markdown",
   "metadata": {},
   "source": [
    "### The  __str__(self) function\n",
    "\n",
    "Allows to print custom message instead of above object message for objects. "
   ]
  },
  {
   "cell_type": "code",
   "execution_count": 9,
   "metadata": {},
   "outputs": [],
   "source": [
    "class Dog:\n",
    "    def __init__(self,name):\n",
    "        self.name = name\n",
    "        print(\"Object with name {} is created\".format(name))#interpolation\n",
    "        \n",
    "    def talk(self):\n",
    "        print(\"woof\")\n",
    "    \n",
    "    def printName(self):\n",
    "        print(\"My name is {}\".format(self.name)) \n",
    "        \n",
    "    def __str__(self):\n",
    "        return self.name"
   ]
  },
  {
   "cell_type": "code",
   "execution_count": 10,
   "metadata": {},
   "outputs": [
    {
     "name": "stdout",
     "output_type": "stream",
     "text": [
      "Object with name Charlie is created\n",
      "Object with name Bruno is created\n"
     ]
    }
   ],
   "source": [
    "charlie = Dog(\"Charlie\")\n",
    "bruno = Dog(\"Bruno\") "
   ]
  },
  {
   "cell_type": "code",
   "execution_count": 11,
   "metadata": {},
   "outputs": [
    {
     "name": "stdout",
     "output_type": "stream",
     "text": [
      "Charlie\n"
     ]
    }
   ],
   "source": [
    "print(charlie)"
   ]
  },
  {
   "cell_type": "code",
   "execution_count": 12,
   "metadata": {},
   "outputs": [
    {
     "name": "stdout",
     "output_type": "stream",
     "text": [
      "Bruno\n"
     ]
    }
   ],
   "source": [
    "print(bruno)"
   ]
  },
  {
   "cell_type": "code",
   "execution_count": 13,
   "metadata": {},
   "outputs": [
    {
     "name": "stdout",
     "output_type": "stream",
     "text": [
      "a=  20\n"
     ]
    }
   ],
   "source": [
    "def outerFxn():\n",
    "    global a\n",
    "    a = 20\n",
    "\n",
    "def innerFxn():\n",
    "    global a\n",
    "    a = 30 \n",
    "    print('a= ', a)\n",
    "    \n",
    "a = 10\n",
    "outerFxn()\n",
    "print('a= ', a)"
   ]
  },
  {
   "cell_type": "markdown",
   "metadata": {},
   "source": [
    "## Encapsulation\n",
    "\n",
    "Encapsulation is a process of protecting the data and functionality of a class in a single unit, called an object. This mechanism is often used to protect the data of an object from other objects. It’s one of the fundamental principles in any programming language that supports object-oriented programming.\n",
    "\n",
    "We can protect the variables in the class by marking them as private. We need to add two underscores as a prefix to make a variable private. Once we make a variable as private, we can’t access them directly from the objects of that class. Now, let’s see how to create private variables.\n",
    "\n",
    "Once a variable/function is declared as private, the only way to access those variables is through **name mangling**. In the name mangling process, an identifier with two leading underscores and one trailing underscore is textually replaced with _classname__identifier , where class-name is the name of the current class and identifier is the private variable."
   ]
  },
  {
   "cell_type": "code",
   "execution_count": 14,
   "metadata": {},
   "outputs": [],
   "source": [
    "class Account:\n",
    "    def __init__(self):\n",
    "        self.__balance = 10 # Private variable\n",
    "        \n",
    "    def public(self):\n",
    "        print(\"Public Function\")\n",
    "        \n",
    "    def __private(self):\n",
    "        print(\"Private Function\")\n",
    "        \n",
    "    def setBalance(self, balance):\n",
    "        self.__balance = balance\n",
    "        \n",
    "    def getBalance(self):\n",
    "        return self.__balance"
   ]
  },
  {
   "cell_type": "code",
   "execution_count": 15,
   "metadata": {},
   "outputs": [
    {
     "name": "stdout",
     "output_type": "stream",
     "text": [
      "Public Function\n"
     ]
    }
   ],
   "source": [
    "obj = Account()\n",
    "obj.public()"
   ]
  },
  {
   "cell_type": "code",
   "execution_count": 16,
   "metadata": {},
   "outputs": [
    {
     "name": "stdout",
     "output_type": "stream",
     "text": [
      "Private Function\n"
     ]
    }
   ],
   "source": [
    "obj._Account__private() # calling Private function"
   ]
  },
  {
   "cell_type": "code",
   "execution_count": 17,
   "metadata": {},
   "outputs": [
    {
     "data": {
      "text/plain": [
       "10"
      ]
     },
     "execution_count": 17,
     "metadata": {},
     "output_type": "execute_result"
    }
   ],
   "source": [
    "obj._Account__balance # calling Private variable"
   ]
  },
  {
   "cell_type": "code",
   "execution_count": 18,
   "metadata": {},
   "outputs": [
    {
     "name": "stdout",
     "output_type": "stream",
     "text": [
      "10\n"
     ]
    }
   ],
   "source": [
    "print(obj.getBalance()) # getting Private variable"
   ]
  },
  {
   "cell_type": "code",
   "execution_count": 19,
   "metadata": {},
   "outputs": [
    {
     "name": "stdout",
     "output_type": "stream",
     "text": [
      "11\n"
     ]
    }
   ],
   "source": [
    "obj.setBalance(11)  # setting Private variable value\n",
    "print(obj.getBalance())"
   ]
  },
  {
   "cell_type": "markdown",
   "metadata": {},
   "source": [
    "## Polymorphism\n",
    "\n",
    "The polymorphism is the process of using an operator or function in different ways for different data input.\n",
    "\n",
    "#### Operator Polymorphism in Python\n",
    "\n",
    "**Polymorphism in addition operator** -- For integer data types, + operator is used to perform arithmetic addition operation. For string data types, + operator is used to perform concatenation."
   ]
  },
  {
   "cell_type": "code",
   "execution_count": 20,
   "metadata": {},
   "outputs": [
    {
     "name": "stdout",
     "output_type": "stream",
     "text": [
      "3\n"
     ]
    }
   ],
   "source": [
    "num1 = 1\n",
    "num2 = 2\n",
    "print(num1 + num2)"
   ]
  },
  {
   "cell_type": "code",
   "execution_count": 22,
   "metadata": {},
   "outputs": [
    {
     "name": "stdout",
     "output_type": "stream",
     "text": [
      "This isPython\n"
     ]
    }
   ],
   "source": [
    "str1 = \"This is\"\n",
    "str2 = \"Python\"\n",
    "print(str1+str2)"
   ]
  },
  {
   "cell_type": "markdown",
   "metadata": {},
   "source": [
    "#### Function Polymorphism in Python\n",
    "\n",
    "There are some functions in Python which are compatible to run with multiple data types. \n",
    "\n",
    "**Polymorphic len() function** -- One such function is the len() function. It can run with many data types in Python."
   ]
  },
  {
   "cell_type": "code",
   "execution_count": 23,
   "metadata": {},
   "outputs": [
    {
     "name": "stdout",
     "output_type": "stream",
     "text": [
      "9\n",
      "3\n",
      "2\n"
     ]
    }
   ],
   "source": [
    "print(len(\"Programiz\")) # print length of string\n",
    "print(len([\"Python\", \"Java\", \"C\"]))  # print number of items in list\n",
    "print(len({\"Name\": \"John\", \"Address\": \"Nepal\"}))  # print number of keys in dictionary"
   ]
  },
  {
   "cell_type": "markdown",
   "metadata": {},
   "source": [
    "#### Class Polymorphism in Python\n",
    "\n",
    "We can use the concept of polymorphism while creating class methods as Python allows different classes to have methods with the same name.\n",
    "\n",
    "**Polymorphism in Class Methods** -- We have created two classes DeliveryMan and LumberJack. They share a similar structure and have the same method names work() and perform_task()."
   ]
  },
  {
   "cell_type": "code",
   "execution_count": 24,
   "metadata": {},
   "outputs": [],
   "source": [
    "class Worker:\n",
    "        \n",
    "    def work(self):\n",
    "        print(\"Working\")\n",
    "        \n",
    "    def perform_task(self):\n",
    "        print(\"Performing Task: \",end ='')\n",
    "        self.work()\n",
    "\n",
    "class DeliveryMan(Worker):\n",
    "    def work(self):\n",
    "        print(\"Delivering Goods\")\n",
    "        \n",
    "        \n",
    "class LumberJack(Worker):\n",
    "    def work(self):\n",
    "        print(\"Cutting Wood\")"
   ]
  },
  {
   "cell_type": "code",
   "execution_count": 25,
   "metadata": {},
   "outputs": [],
   "source": [
    "deliveryMan = DeliveryMan()\n",
    "lumberJack = LumberJack()"
   ]
  },
  {
   "cell_type": "code",
   "execution_count": 26,
   "metadata": {},
   "outputs": [
    {
     "name": "stdout",
     "output_type": "stream",
     "text": [
      "Performing Task: Delivering Goods\n"
     ]
    }
   ],
   "source": [
    "deliveryMan.perform_task()"
   ]
  },
  {
   "cell_type": "code",
   "execution_count": 27,
   "metadata": {},
   "outputs": [
    {
     "name": "stdout",
     "output_type": "stream",
     "text": [
      "Performing Task: Cutting Wood\n"
     ]
    }
   ],
   "source": [
    "lumberJack.perform_task()"
   ]
  }
 ],
 "metadata": {
  "kernelspec": {
   "display_name": "Python 3",
   "language": "python",
   "name": "python3"
  },
  "language_info": {
   "codemirror_mode": {
    "name": "ipython",
    "version": 3
   },
   "file_extension": ".py",
   "mimetype": "text/x-python",
   "name": "python",
   "nbconvert_exporter": "python",
   "pygments_lexer": "ipython3",
   "version": "3.8.3"
  }
 },
 "nbformat": 4,
 "nbformat_minor": 4
}
