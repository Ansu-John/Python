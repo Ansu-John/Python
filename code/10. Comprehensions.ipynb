{
 "cells": [
  {
   "cell_type": "markdown",
   "metadata": {},
   "source": [
    "# Comprehensions\n",
    "\n",
    "Comprehensions in Python provide us with a short and concise way to construct new sequences (such as lists, set, dictionary etc.) using sequences which have been already defined. Python supports the following 4 types of comprehensions:\n",
    "\n",
    "+ List Comprehensions\n",
    "+ Dictionary Comprehensions\n",
    "+ Set Comprehensions\n",
    "+ Generator Comprehensions\n",
    "\n",
    "## List Comprehensions\n",
    "List Comprehensions provide an elegant way to create new lists. The following is the basic structure of a list comprehension:\n",
    "\n",
    "```\n",
    "output_list = [output_exp for var in input_list if (var satisfies this condition)]\n",
    "```"
   ]
  },
  {
   "cell_type": "code",
   "execution_count": 1,
   "metadata": {},
   "outputs": [
    {
     "name": "stdout",
     "output_type": "stream",
     "text": [
      "Output List using for loop: [2, 4, 4, 6]\n"
     ]
    }
   ],
   "source": [
    "# WITHOUT Using List comprehensions \n",
    "input_list = [1, 2, 3, 4, 4, 5, 6, 7, 7] \n",
    "output_list = [] \n",
    "  \n",
    "# Using loop for constructing output list \n",
    "for var in input_list: \n",
    "    if var % 2 == 0: \n",
    "        output_list.append(var) \n",
    "\n",
    "print (\"Output List using for loop:\", output_list) "
   ]
  },
  {
   "cell_type": "code",
   "execution_count": 2,
   "metadata": {},
   "outputs": [
    {
     "name": "stdout",
     "output_type": "stream",
     "text": [
      "Output List using for loop: [2, 4, 4, 6]\n"
     ]
    }
   ],
   "source": [
    "# Using List comprehensions \n",
    "input_list = [1, 2, 3, 4, 4, 5, 6, 7, 7] \n",
    "\n",
    "print (\"Output List using for loop:\", [var for var in input_list if var % 2 == 0] ) "
   ]
  },
  {
   "cell_type": "code",
   "execution_count": 3,
   "metadata": {},
   "outputs": [
    {
     "name": "stdout",
     "output_type": "stream",
     "text": [
      "Output List using for loop: <generator object <genexpr> at 0x000001D3E7762CF0>\n"
     ]
    }
   ],
   "source": [
    "# replace [] with () to get generator object\n",
    "print (\"Output List using for loop:\", (var for var in input_list if var % 2 == 0) ) "
   ]
  },
  {
   "cell_type": "code",
   "execution_count": 4,
   "metadata": {},
   "outputs": [
    {
     "name": "stdout",
     "output_type": "stream",
     "text": [
      "Output List using list comprehension: [1, 4, 9, 16, 25, 36, 49, 64, 81]\n"
     ]
    }
   ],
   "source": [
    "# Another example using List comprehensions \n",
    "print(\"Output List using list comprehension:\",[var**2 for var in range(1, 10)] ) "
   ]
  },
  {
   "cell_type": "markdown",
   "metadata": {},
   "source": [
    "## Dictionary Comprehensions\n",
    "Extending the idea of list comprehensions, we can also create a dictionary using dictionary comprehensions. The basic structure of a dictionary comprehension looks like below.\n",
    "\n",
    "```\n",
    "output_dict = {key:value for (key, value) in iterable if (key, value satisfy this condition)}\n",
    "```"
   ]
  },
  {
   "cell_type": "code",
   "execution_count": 5,
   "metadata": {},
   "outputs": [
    {
     "name": "stdout",
     "output_type": "stream",
     "text": [
      "Output Dictionary using for loop: {1: 1, 3: 27, 5: 125, 7: 343}\n"
     ]
    }
   ],
   "source": [
    "# WITHOUT Using Dictionary comprehensions \n",
    "input_list = [1, 2, 3, 4, 5, 6, 7] \n",
    "  \n",
    "output_dict = {} \n",
    "  \n",
    "# Using loop for constructing output dictionary \n",
    "for var in input_list: \n",
    "    if var % 2 != 0: \n",
    "        output_dict[var] = var**3\n",
    "  \n",
    "print(\"Output Dictionary using for loop:\", \n",
    "                             output_dict ) "
   ]
  },
  {
   "cell_type": "code",
   "execution_count": 6,
   "metadata": {},
   "outputs": [
    {
     "name": "stdout",
     "output_type": "stream",
     "text": [
      "Output Dictionary using dictionary comprehensions: {1: 1, 3: 27, 5: 125, 7: 343}\n"
     ]
    }
   ],
   "source": [
    "# Using Dictionary comprehensions \n",
    "input_list = [1, 2, 3, 4, 5, 6, 7]  \n",
    "\n",
    "print (\"Output Dictionary using dictionary comprehensions:\", {var:var ** 3 for var in input_list if var % 2 != 0}  ) "
   ]
  },
  {
   "cell_type": "code",
   "execution_count": 7,
   "metadata": {},
   "outputs": [
    {
     "name": "stdout",
     "output_type": "stream",
     "text": [
      "Output Dictionary using dictionary comprehensions: {'Gujarat': 'Gandhinagar', 'Maharashtra': 'Mumbai', 'Rajasthan': 'Jaipur'}\n"
     ]
    }
   ],
   "source": [
    "# Another example using Dictionary comprehensions \n",
    "state = ['Gujarat', 'Maharashtra', 'Rajasthan'] \n",
    "capital = ['Gandhinagar', 'Mumbai', 'Jaipur'] \n",
    "print(\"Output Dictionary using dictionary comprehensions:\", {key:value for (key, value) in zip(state, capital)})"
   ]
  },
  {
   "cell_type": "markdown",
   "metadata": {},
   "source": [
    "## Set Comprehensions\n",
    "Set comprehensions are pretty similar to list comprehensions. The only difference between them is that set comprehensions use curly brackets { }. Let’s look at the following example to understand set comprehensions."
   ]
  },
  {
   "cell_type": "code",
   "execution_count": 8,
   "metadata": {},
   "outputs": [
    {
     "name": "stdout",
     "output_type": "stream",
     "text": [
      "Output Set using for loop: {2, 4, 6}\n"
     ]
    }
   ],
   "source": [
    "# WITHOUT Using Set comprehensions \n",
    "input_list = [1, 2, 3, 4, 4, 5, 6, 6, 6, 7, 7] \n",
    "  \n",
    "output_set = set() \n",
    "  \n",
    "# Using loop for constructing output set \n",
    "for var in input_list: \n",
    "    if var % 2 == 0: \n",
    "        output_set.add(var) \n",
    "\n",
    "print(\"Output Set using for loop:\", output_set) "
   ]
  },
  {
   "cell_type": "code",
   "execution_count": 9,
   "metadata": {},
   "outputs": [
    {
     "name": "stdout",
     "output_type": "stream",
     "text": [
      "Output Set using set comprehensions: {2, 4, 6}\n"
     ]
    }
   ],
   "source": [
    "# Using Set comprehensions \n",
    "input_list = [1, 2, 3, 4, 4, 5, 6, 6, 6, 7, 7] \n",
    "print(\"Output Set using set comprehensions:\",{var for var in input_list if var % 2 == 0})"
   ]
  },
  {
   "cell_type": "markdown",
   "metadata": {},
   "source": [
    "## Generator Comprehensions\n",
    "Generator Comprehensions are very similar to list comprehensions. One difference between them is that generator comprehensions use circular brackets whereas list comprehensions use square brackets. The major difference between them is that generators don’t allocate memory for the whole list. Instead, they generate each value one by one which is why they are memory efficient. \n"
   ]
  },
  {
   "cell_type": "code",
   "execution_count": 10,
   "metadata": {},
   "outputs": [
    {
     "name": "stdout",
     "output_type": "stream",
     "text": [
      "Output values using generator comprehensions: 2 4 4 6 "
     ]
    }
   ],
   "source": [
    "# Using Generator comprehensions \n",
    "input_list = [1, 2, 3, 4, 4, 5, 6, 7, 7] \n",
    "    \n",
    "print(\"Output values using generator comprehensions:\", end = ' ') \n",
    "  \n",
    "for var in (var for var in input_list if var % 2 == 0) : \n",
    "    print(var, end = ' ') "
   ]
  }
 ],
 "metadata": {
  "kernelspec": {
   "display_name": "Python 3",
   "language": "python",
   "name": "python3"
  },
  "language_info": {
   "codemirror_mode": {
    "name": "ipython",
    "version": 3
   },
   "file_extension": ".py",
   "mimetype": "text/x-python",
   "name": "python",
   "nbconvert_exporter": "python",
   "pygments_lexer": "ipython3",
   "version": "3.8.3"
  }
 },
 "nbformat": 4,
 "nbformat_minor": 4
}
