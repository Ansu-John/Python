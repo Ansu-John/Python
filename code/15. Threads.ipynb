{
 "cells": [
  {
   "cell_type": "markdown",
   "metadata": {},
   "source": [
    "# Thread\n",
    "\n",
    "Python threading allows you to have different parts of your program run concurrently and can simplify your design."
   ]
  },
  {
   "cell_type": "code",
   "execution_count": 1,
   "metadata": {},
   "outputs": [],
   "source": [
    "import logging # To create logs\n",
    "import threading\n",
    "import time "
   ]
  },
  {
   "cell_type": "code",
   "execution_count": 9,
   "metadata": {},
   "outputs": [],
   "source": [
    "# Thread function\n",
    "def thread_function(name):\n",
    "    logging.info(\"Thread %s: starting\", name)\n",
    "    time.sleep(2)\n",
    "    logging.info(\"Thread %s: finishing\", name)"
   ]
  },
  {
   "cell_type": "code",
   "execution_count": 3,
   "metadata": {},
   "outputs": [
    {
     "name": "stderr",
     "output_type": "stream",
     "text": [
      "15:23:47: Main : before starting a thread\n",
      "15:23:47: Main : before running the thread\n",
      "15:23:47: Thread 1: starting\n",
      "15:23:47: Main : wait for the thread to finish\n",
      "15:23:49: Thread 1: finishing\n",
      "15:23:49: Main : All operations are done\n"
     ]
    }
   ],
   "source": [
    "# Main thread, all lines of code specified under its scope \n",
    "# will be considered to be executed in main thread.\n",
    "\n",
    "if __name__ == \"__main__\":\n",
    "    format = \"%(asctime)s: %(message)s\"\n",
    "    logging.basicConfig(format=format, level=logging.INFO, datefmt=\"%H:%M:%S\")\n",
    "    logging.info(\"Main : before starting a thread\")\n",
    "    \n",
    "    # Creating instance of thread\n",
    "    x = threading.Thread(target=thread_function, args=(1,))\n",
    "    logging.info(\"Main : before running the thread\")\n",
    "    \n",
    "    # Start the thread\n",
    "    x.start()\n",
    "    logging.info(\"Main : wait for the thread to finish\")\n",
    "    \n",
    "    x.join()\n",
    "    logging.info(\"Main : All operations are done\")"
   ]
  },
  {
   "cell_type": "code",
   "execution_count": 4,
   "metadata": {},
   "outputs": [
    {
     "name": "stderr",
     "output_type": "stream",
     "text": [
      "15:23:49: Main : before starting a thread 0\n",
      "15:23:49: Thread 0: starting\n",
      "15:23:49: Main : before running the thread\n",
      "15:23:49: Main : before starting a thread 1\n",
      "15:23:49: Thread 1: starting\n",
      "15:23:49: Main : before running the thread\n",
      "15:23:49: Main : before starting a thread 2\n",
      "15:23:49: Thread 2: starting\n",
      "15:23:49: Main : before running the thread\n",
      "15:23:49: Main : before starting a thread 3\n",
      "15:23:49: Thread 3: starting\n",
      "15:23:49: Main : before running the thread\n",
      "15:23:49: Main : before starting a thread 4\n",
      "15:23:49: Thread 4: starting\n",
      "15:23:49: Main : before running the thread\n",
      "15:23:49: Main thread : before joining the thread 0 \n"
     ]
    },
    {
     "name": "stdout",
     "output_type": "stream",
     "text": [
      "[<Thread(Thread-7, started 11276)>, <Thread(Thread-8, started 14008)>, <Thread(Thread-9, started 32480)>, <Thread(Thread-10, started 27924)>, <Thread(Thread-11, started 25324)>]\n"
     ]
    },
    {
     "name": "stderr",
     "output_type": "stream",
     "text": [
      "15:23:51: Thread 1: finishing\n",
      "15:23:51: Thread 0: finishing\n",
      "15:23:51: Thread 2: finishing\n",
      "15:23:51: Main : thread 0 done\n",
      "15:23:51: Main thread : before joining the thread 1 \n",
      "15:23:51: Main : thread 1 done\n",
      "15:23:51: Main thread : before joining the thread 2 \n",
      "15:23:51: Main : thread 2 done\n",
      "15:23:51: Main thread : before joining the thread 3 \n",
      "15:23:51: Thread 4: finishing\n",
      "15:23:51: Thread 3: finishing\n",
      "15:23:51: Main : thread 3 done\n",
      "15:23:51: Main thread : before joining the thread 4 \n",
      "15:23:51: Main : thread 4 done\n"
     ]
    }
   ],
   "source": [
    "# Multiple Threading\n",
    "\n",
    "if __name__ == \"__main__\":\n",
    "    format = \"%(asctime)s: %(message)s\"\n",
    "    logging.basicConfig(format=format, level=logging.INFO, datefmt=\"%H:%M:%S\")\n",
    "        \n",
    "    threads = list()\n",
    "    for i in range(5):\n",
    "        logging.info(\"Main : before starting a thread %d\",i)\n",
    "        x = threading.Thread(target=thread_function, args=(i,))\n",
    "        threads.append(x)\n",
    "        \n",
    "        #Start the thread \n",
    "        x.start()\n",
    "        logging.info(\"Main : before running the thread\")\n",
    "    \n",
    "    print(threads)\n",
    "    for index,thread in enumerate(threads):\n",
    "        logging.info(\"Main thread : before joining the thread %d \",index)\n",
    "        thread.join()\n",
    "        logging.info(\"Main : thread %d done\",index)      \n",
    "        "
   ]
  },
  {
   "cell_type": "markdown",
   "metadata": {},
   "source": [
    "### Daemon Threads\n",
    "In computer science, a daemon is a process that runs in the background.\n",
    "\n",
    "Python threading has a more specific meaning for daemon. A daemon thread will shut down immediately when the program exits. One way to think about these definitions is to consider the daemon thread a thread that runs in the background without worrying about shutting it down.\n",
    "\n",
    "If a program is running Threads that are not daemons, then the program will wait for those threads to complete before it terminates. Threads that are daemons, however, are just killed wherever they are when the program is exiting."
   ]
  },
  {
   "cell_type": "code",
   "execution_count": 5,
   "metadata": {},
   "outputs": [
    {
     "name": "stderr",
     "output_type": "stream",
     "text": [
      "15:23:51: Main : before starting a thread\n",
      "15:23:51: Main : before running the thread\n",
      "15:23:51: Thread 1: starting\n",
      "15:23:51: Main : wait for the thread to finish\n",
      "15:23:53: Thread 1: finishing\n",
      "15:23:53: Main : All operations are done\n"
     ]
    }
   ],
   "source": [
    "if __name__ == \"__main__\":\n",
    "    format = \"%(asctime)s: %(message)s\"\n",
    "    logging.basicConfig(format=format, level=logging.INFO, datefmt=\"%H:%M:%S\")\n",
    "    logging.info(\"Main : before starting a thread\")\n",
    "    \n",
    "    # Creating instance of thread\n",
    "    x = threading.Thread(target=thread_function, args=(1,), daemon=True)\n",
    "    logging.info(\"Main : before running the thread\")\n",
    "    \n",
    "    # Start the thread\n",
    "    x.start()\n",
    "    logging.info(\"Main : wait for the thread to finish\")\n",
    "    \n",
    "    x.join()\n",
    "    logging.info(\"Main : All operations are done\")"
   ]
  },
  {
   "cell_type": "markdown",
   "metadata": {},
   "source": [
    "### ThreadPoolExecutor\n",
    "Group Threads together. consider as a box where you add threads to. this will manage all your threads. "
   ]
  },
  {
   "cell_type": "code",
   "execution_count": 10,
   "metadata": {},
   "outputs": [
    {
     "name": "stderr",
     "output_type": "stream",
     "text": [
      "17:08:52: Thread 0: starting\n",
      "17:08:52: Thread 1: starting\n",
      "17:08:52: Thread 2: starting\n",
      "17:08:54: Thread 0: finishing\n",
      "17:08:54: Thread 2: finishing\n",
      "17:08:54: Thread 1: finishing\n"
     ]
    }
   ],
   "source": [
    "import concurrent.futures\n",
    "\n",
    "if __name__ == \"__main__\":\n",
    "    format = \"%(asctime)s: %(message)s\"\n",
    "    logging.basicConfig(format=format, level=logging.INFO, datefmt=\"%H:%M:%S\")\n",
    "       \n",
    "    with concurrent.futures.ThreadPoolExecutor(max_workers = 3) as executor:\n",
    "        executor.map(thread_function,range(3))\n"
   ]
  },
  {
   "cell_type": "code",
   "execution_count": 7,
   "metadata": {},
   "outputs": [
    {
     "name": "stderr",
     "output_type": "stream",
     "text": [
      "15:23:55: Thread 0: starting\n",
      "15:23:55: Thread 1: starting\n",
      "15:23:55: Thread 2: starting\n",
      "15:23:57: Thread 1: finishing\n",
      "15:23:57: Thread 0: finishing\n",
      "15:23:57: Thread 3: starting\n",
      "15:23:57: Thread 4: starting\n",
      "15:23:57: Thread 2: finishing\n",
      "15:23:59: Thread 3: finishing\n",
      "15:23:59: Thread 4: finishing\n"
     ]
    }
   ],
   "source": [
    "if __name__ == \"__main__\":\n",
    "    format = \"%(asctime)s: %(message)s\"\n",
    "    logging.basicConfig(format=format, level=logging.INFO, datefmt=\"%H:%M:%S\")\n",
    "       \n",
    "    with concurrent.futures.ThreadPoolExecutor(max_workers = 3) as executor:\n",
    "        executor.map(thread_function,range(5))"
   ]
  },
  {
   "cell_type": "markdown",
   "metadata": {},
   "source": [
    "### Lock"
   ]
  },
  {
   "cell_type": "markdown",
   "metadata": {},
   "source": [
    "mutex = mutual exclusion. We allow only one thread to read modify write code at a time\n",
    "\n",
    "lock is like key to open door \n",
    "basic functions: aquire() & .release() "
   ]
  },
  {
   "cell_type": "code",
   "execution_count": 12,
   "metadata": {},
   "outputs": [],
   "source": [
    "class XDatabase:\n",
    "    def __init__(self):\n",
    "        self.value = 0\n",
    "        self._lock = threading.Lock()\n",
    "        \n",
    "    def locked_update(self, tname):\n",
    "        logging.info(\"Thread %s: starting update\", tname)\n",
    "        \n",
    "        with self._lock:\n",
    "            logging.info(\"Thread %s: starting update\", tname)\n",
    "            temp = self.value\n",
    "            temp += 1\n",
    "            time.sleep(0.5)\n",
    "            self.value = temp\n",
    "            logging.info(\"Thread %s: finishing update\", tname)\n"
   ]
  },
  {
   "cell_type": "code",
   "execution_count": 11,
   "metadata": {},
   "outputs": [
    {
     "name": "stderr",
     "output_type": "stream",
     "text": [
      "15:24:58: Starting to update the 0 value in the database.\n",
      "15:24:58: Thread 0: starting update\n",
      "15:24:58: Thread 0: starting update\n",
      "15:24:58: Thread 1: starting update\n",
      "15:24:58: Thread 2: starting update\n",
      "15:24:59: Thread 0: finishing update\n",
      "15:24:59: Thread 1: starting update\n",
      "15:24:59: Thread 1: finishing update\n",
      "15:24:59: Thread 2: starting update\n",
      "15:25:00: Thread 2: finishing update\n",
      "15:25:00: Updated value in the database is 3.\n"
     ]
    }
   ],
   "source": [
    "if __name__ == \"__main__\":\n",
    "    format = \"%(asctime)s: %(message)s\"\n",
    "    logging.basicConfig(format=format, level=logging.INFO, datefmt=\"%H:%M:%S\")\n",
    "    \n",
    "    database = XDatabase()\n",
    "    logging.info(\"Starting to update the %d value in the database.\", database.value)\n",
    "\n",
    "    with concurrent.futures.ThreadPoolExecutor(max_workers = 3) as executor:\n",
    "        for tname in range(3):\n",
    "            executor.submit(database.locked_update,tname)\n",
    "            \n",
    "    logging.info(\"Updated value in the database is %d.\", database.value)\n"
   ]
  },
  {
   "cell_type": "code",
   "execution_count": null,
   "metadata": {},
   "outputs": [
    {
     "name": "stdout",
     "output_type": "stream",
     "text": [
      "before first acquire\n",
      "before second acquire\n"
     ]
    }
   ],
   "source": [
    "x1  = threading.Lock()\n",
    "print(\"before first acquire\")\n",
    "x1.acquire()\n",
    "print(\"before second acquire\")\n",
    "# x1.acquire() # --> \n",
    "print(\"before release\")\n",
    "x1.release() "
   ]
  },
  {
   "cell_type": "code",
   "execution_count": 2,
   "metadata": {},
   "outputs": [
    {
     "name": "stdout",
     "output_type": "stream",
     "text": [
      "before first acquire\n",
      "before release\n",
      "before second acquire\n"
     ]
    },
    {
     "data": {
      "text/plain": [
       "True"
      ]
     },
     "execution_count": 2,
     "metadata": {},
     "output_type": "execute_result"
    }
   ],
   "source": [
    "x1  = threading.Lock()\n",
    "print(\"before first acquire\")\n",
    "x1.acquire()\n",
    "print(\"before release\")\n",
    "x1.release() \n",
    "print(\"before second acquire\")\n",
    "x1.acquire()"
   ]
  },
  {
   "cell_type": "markdown",
   "metadata": {},
   "source": [
    "    def __init__(self):\n",
    "        self.message = 0\n",
    "        self.producer_lock = threading.Lock()\n",
    "        self.consumer_lock = threading.Lock()\n",
    "        self.consumer_lock.acquire()\n",
    "        \n",
    "        \n",
    "    def get_message(self,name):\n",
    "        self.consumer_lock.acquire()\n",
    "        message = self.message\n",
    "        self.producer_lock.release()\n",
    "        return message \n",
    "    \n",
    "    \n",
    "    def set_message(self,message,name):\n",
    "        self.producer_lock.acquire()\n",
    "        self.message = message \n",
    "        self.consumer_lock.release()"
   ]
  },
  {
   "cell_type": "code",
   "execution_count": 16,
   "metadata": {},
   "outputs": [
    {
     "name": "stdout",
     "output_type": "stream",
     "text": [
      "Note: you may need to restart the kernel to use updated packages.\n"
     ]
    },
    {
     "name": "stderr",
     "output_type": "stream",
     "text": [
      "ERROR: Could not find a version that satisfies the requirement queue (from versions: none)\n",
      "ERROR: No matching distribution found for queue\n"
     ]
    }
   ],
   "source": [
    "pip install queue"
   ]
  },
  {
   "cell_type": "code",
   "execution_count": 14,
   "metadata": {},
   "outputs": [
    {
     "ename": "ModuleNotFoundError",
     "evalue": "No module named 'queue.Queue'; 'queue' is not a package",
     "output_type": "error",
     "traceback": [
      "\u001b[1;31m---------------------------------------------------------------------------\u001b[0m",
      "\u001b[1;31mModuleNotFoundError\u001b[0m                       Traceback (most recent call last)",
      "\u001b[1;32m<ipython-input-14-e6344dc4d9f5>\u001b[0m in \u001b[0;36m<module>\u001b[1;34m\u001b[0m\n\u001b[1;32m----> 1\u001b[1;33m \u001b[1;32mimport\u001b[0m \u001b[0mqueue\u001b[0m\u001b[1;33m.\u001b[0m\u001b[0mQueue\u001b[0m\u001b[1;33m\u001b[0m\u001b[1;33m\u001b[0m\u001b[0m\n\u001b[0m\u001b[0;32m      2\u001b[0m \u001b[1;32mclass\u001b[0m \u001b[0mPipeline\u001b[0m\u001b[1;33m(\u001b[0m\u001b[0mqueue\u001b[0m\u001b[1;33m.\u001b[0m\u001b[0mQueue\u001b[0m\u001b[1;33m)\u001b[0m\u001b[1;33m:\u001b[0m\u001b[1;33m\u001b[0m\u001b[1;33m\u001b[0m\u001b[0m\n\u001b[0;32m      3\u001b[0m \u001b[1;33m\u001b[0m\u001b[0m\n\u001b[0;32m      4\u001b[0m     \u001b[1;32mdef\u001b[0m \u001b[0m__init__\u001b[0m\u001b[1;33m(\u001b[0m\u001b[0mself\u001b[0m\u001b[1;33m)\u001b[0m\u001b[1;33m:\u001b[0m\u001b[1;33m\u001b[0m\u001b[1;33m\u001b[0m\u001b[0m\n\u001b[0;32m      5\u001b[0m         \u001b[0msuper\u001b[0m\u001b[1;33m(\u001b[0m\u001b[1;33m)\u001b[0m\u001b[1;33m.\u001b[0m\u001b[0m__init__\u001b[0m\u001b[1;33m(\u001b[0m\u001b[0mmax\u001b[0m\u001b[1;33m)\u001b[0m\u001b[1;33m\u001b[0m\u001b[1;33m\u001b[0m\u001b[0m\n",
      "\u001b[1;31mModuleNotFoundError\u001b[0m: No module named 'queue.Queue'; 'queue' is not a package"
     ]
    }
   ],
   "source": [
    "import queue.Queue\n",
    "class Pipeline(queue.Queue):\n",
    "    \n",
    "    def __init__(self):\n",
    "        super().__init__(max)\n",
    "    \n",
    "    def get_message(self,name):        \n",
    "        return self.get() \n",
    "    \n",
    "    \n",
    "    def set_message(self,message,name):\n",
    "        self.put(message)\n",
    "    "
   ]
  },
  {
   "cell_type": "code",
   "execution_count": 12,
   "metadata": {},
   "outputs": [],
   "source": [
    "import random \n",
    "\n",
    "FLAG = object()\n",
    "\n",
    "def producer(pipeline):\n",
    "    for i in range(10):\n",
    "        message = random.randInt(1,10)\n",
    "        pipeline.set_message(message,\"producer\")\n",
    "    \n",
    "    pipeline.set_message(FLAG,\"producer\")\n",
    "    \n",
    "\n",
    "def consumer(pipeline):\n",
    "    message =0\n",
    "    while message is not FLAG:\n",
    "        pipeline.get_message(\"consumer\")\n",
    "        if message is not FLAG:\n",
    "            logging.info(\"Consumer is consuming/storing message %s.\", message)\n",
    "    \n",
    "if __name__ == \"__main__\":\n",
    "    format = \"%(asctime)s: %(message)s\"\n",
    "    logging.basicConfig(format=format, level=logging.INFO, datefmt=\"%H:%M:%S\")\n",
    "    \n",
    "    pipeline = Pipeline()\n",
    "    event = threading.Event()\n",
    "\n",
    "    with concurrent.futures.ThreadPoolExecutor(max_workers = 3) as executor:\n",
    "        for tname in range(3):\n",
    "            executor.submit(producer,pipeline,event)\n",
    "            executor.submit(consumer,pipeline,event)\n",
    "            \n",
    "\n"
   ]
  },
  {
   "cell_type": "code",
   "execution_count": null,
   "metadata": {},
   "outputs": [],
   "source": []
  }
 ],
 "metadata": {
  "kernelspec": {
   "display_name": "Python 3",
   "language": "python",
   "name": "python3"
  },
  "language_info": {
   "codemirror_mode": {
    "name": "ipython",
    "version": 3
   },
   "file_extension": ".py",
   "mimetype": "text/x-python",
   "name": "python",
   "nbconvert_exporter": "python",
   "pygments_lexer": "ipython3",
   "version": "3.8.3"
  }
 },
 "nbformat": 4,
 "nbformat_minor": 4
}
