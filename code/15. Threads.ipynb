{
 "cells": [
  {
   "cell_type": "markdown",
   "metadata": {},
   "source": [
    "# Thread\n",
    "\n",
    "Python threading allows you to have different parts of your program run concurrently and can simplify your design."
   ]
  },
  {
   "cell_type": "code",
   "execution_count": 1,
   "metadata": {},
   "outputs": [],
   "source": [
    "import logging # To create logs\n",
    "from time import sleep\n",
    "from threading import Thread "
   ]
  },
  {
   "cell_type": "code",
   "execution_count": 2,
   "metadata": {},
   "outputs": [],
   "source": [
    "# Thread function\n",
    "def thread_function(name):\n",
    "    logging.info(\"Thread %s: starting\", name)\n",
    "    time.sleep(2)\n",
    "    logging.info(\"Thread %s: finishing\", name)"
   ]
  },
  {
   "cell_type": "code",
   "execution_count": 3,
   "metadata": {},
   "outputs": [
    {
     "name": "stderr",
     "output_type": "stream",
     "text": [
      "17:02:24: Main : before starting a thread\n",
      "17:02:24: Main : before running the thread\n",
      "17:02:24: Thread 1: starting\n",
      "Exception in thread Thread-6:\n",
      "Traceback (most recent call last):\n",
      "  File \"C:\\Users\\dennis\\anaconda3\\lib\\threading.py\", line 932, in _bootstrap_inner\n",
      "17:02:24: Main : wait for the thread to finish\n",
      "    self.run()\n",
      "  File \"C:\\Users\\dennis\\anaconda3\\lib\\threading.py\", line 870, in run\n",
      "    self._target(*self._args, **self._kwargs)\n",
      "  File \"<ipython-input-2-b5906b674e82>\", line 4, in thread_function\n",
      "NameError: name 'time' is not defined\n",
      "17:02:24: Main : All operations are done\n"
     ]
    }
   ],
   "source": [
    "# Main thread, all lines of code specified under its scope \n",
    "# will be considered to be executed in main thread.\n",
    "\n",
    "if __name__ == \"__main__\":\n",
    "    format = \"%(asctime)s: %(message)s\"\n",
    "    logging.basicConfig(format=format, level=logging.INFO, datefmt=\"%H:%M:%S\")\n",
    "    logging.info(\"Main : before starting a thread\")\n",
    "    \n",
    "    # Creating instance of thread\n",
    "    x = Thread(target=thread_function, args=(1,))\n",
    "    logging.info(\"Main : before running the thread\")\n",
    "    \n",
    "    # Start the thread\n",
    "    x.start()\n",
    "    logging.info(\"Main : wait for the thread to finish\")\n",
    "    \n",
    "    x.join()\n",
    "    logging.info(\"Main : All operations are done\")"
   ]
  },
  {
   "cell_type": "code",
   "execution_count": 4,
   "metadata": {},
   "outputs": [
    {
     "name": "stderr",
     "output_type": "stream",
     "text": [
      "17:02:24: Thread New: starting\n"
     ]
    },
    {
     "name": "stdout",
     "output_type": "stream",
     "text": [
      "Main - Started\n",
      "Main - Before starting thread\n",
      "Main - Waiting for thread to finish\n",
      "Main - Done\n"
     ]
    },
    {
     "name": "stderr",
     "output_type": "stream",
     "text": [
      "Exception in thread Thread-7:\n",
      "Traceback (most recent call last):\n",
      "  File \"C:\\Users\\dennis\\anaconda3\\lib\\threading.py\", line 932, in _bootstrap_inner\n",
      "    self.run()\n",
      "  File \"C:\\Users\\dennis\\anaconda3\\lib\\threading.py\", line 870, in run\n",
      "    self._target(*self._args, **self._kwargs)\n",
      "  File \"<ipython-input-2-b5906b674e82>\", line 4, in thread_function\n",
      "NameError: name 'time' is not defined\n"
     ]
    }
   ],
   "source": [
    "print(\"Main - Started\")\n",
    "t = Thread(target = thread_function, args = (\"New\",))\n",
    "print(\"Main - Before starting thread\")\n",
    "t.start()\n",
    "print(\"Main - Waiting for thread to finish\")\n",
    "print(\"Main - Done\")"
   ]
  },
  {
   "cell_type": "code",
   "execution_count": 5,
   "metadata": {},
   "outputs": [
    {
     "name": "stderr",
     "output_type": "stream",
     "text": [
      "17:02:24: Thread New: starting\n",
      "Exception in thread Thread-8:\n",
      "Traceback (most recent call last):\n",
      "  File \"C:\\Users\\dennis\\anaconda3\\lib\\threading.py\", line 932, in _bootstrap_inner\n",
      "    self.run()\n",
      "  File \"C:\\Users\\dennis\\anaconda3\\lib\\threading.py\", line 870, in run\n",
      "    self._target(*self._args, **self._kwargs)\n",
      "  File \"<ipython-input-2-b5906b674e82>\", line 4, in thread_function\n",
      "NameError: name 'time' is not defined\n"
     ]
    },
    {
     "name": "stdout",
     "output_type": "stream",
     "text": [
      "Main - Started\n",
      "Main - Before starting thread\n",
      "Main - Waiting for thread to finish\n",
      "Main - Done\n"
     ]
    }
   ],
   "source": [
    "print(\"Main - Started\")\n",
    "t = Thread(target = thread_function, args = (\"New\",))\n",
    "print(\"Main - Before starting thread\")\n",
    "t.start()\n",
    "print(\"Main - Waiting for thread to finish\")\n",
    "t.join()\n",
    "print(\"Main - Done\")"
   ]
  },
  {
   "cell_type": "code",
   "execution_count": 6,
   "metadata": {},
   "outputs": [
    {
     "name": "stderr",
     "output_type": "stream",
     "text": [
      "17:02:24: Main : before starting a thread 0\n",
      "17:02:24: Thread 0: starting\n",
      "Exception in thread 17:02:24: Main : before running the thread\n",
      "Thread-9:\n",
      "Traceback (most recent call last):\n",
      "  File \"C:\\Users\\dennis\\anaconda3\\lib\\threading.py\", line 932, in _bootstrap_inner\n",
      "17:02:24: Main : before starting a thread 1\n",
      "    self.run()\n",
      "  File \"C:\\Users\\dennis\\anaconda3\\lib\\threading.py\", line 870, in run\n",
      "    17:02:24: Thread 1: starting\n",
      "self._target(*self._args, **self._kwargs)\n",
      "  File \"<ipython-input-2-b5906b674e82>\", line 4, in thread_function\n",
      "Exception in thread Thread-10:\n",
      "Traceback (most recent call last):\n",
      "  File \"C:\\Users\\dennis\\anaconda3\\lib\\threading.py\", line 932, in _bootstrap_inner\n",
      "17:02:24: Main : before running the thread\n",
      "17:02:24: Main : before starting a thread 2\n",
      "    self.run()\n",
      "  File \"C:\\Users\\dennis\\anaconda3\\lib\\threading.py\", line 870, in run\n",
      "17:02:24: Thread 2: starting\n",
      "NameError: name 'time' is not defined\n",
      "Exception in thread 17:02:24: Main : before running the thread\n",
      "Thread-11:\n",
      "Traceback (most recent call last):\n",
      "  File \"C:\\Users\\dennis\\anaconda3\\lib\\threading.py\", line 932, in _bootstrap_inner\n",
      "    self._target(*self._args, **self._kwargs)\n",
      "  File \"<ipython-input-2-b5906b674e82>\", line 4, in thread_function\n",
      "17:02:24: Main : before starting a thread 3\n",
      "    self.run()\n",
      "  File \"C:\\Users\\dennis\\anaconda3\\lib\\threading.py\", line 870, in run\n",
      "    self._target(*self._args, **self._kwargs)\n",
      "  File \"<ipython-input-2-b5906b674e82>\", line 4, in thread_function\n",
      "17:02:24: Thread 3: starting\n",
      "NameError: name 'time' is not defined\n",
      "NameErrorException in thread Thread-12:\n",
      "Traceback (most recent call last):\n",
      "  File \"C:\\Users\\dennis\\anaconda3\\lib\\threading.py\", line 932, in _bootstrap_inner\n",
      "17:02:24: Main : before running the thread\n",
      ": name 'time' is not defined\n",
      "17:02:24: Main : before starting a thread 4\n",
      "    self.run()\n",
      "  File \"C:\\Users\\dennis\\anaconda3\\lib\\threading.py\", line 870, in run\n",
      "17:02:24: Thread 4: starting\n",
      "    self._target(*self._args, **self._kwargs)\n",
      "  File \"<ipython-input-2-b5906b674e82>\", line 4, in thread_function\n",
      "Exception in thread Thread-13:\n",
      "Traceback (most recent call last):\n",
      "  File \"C:\\Users\\dennis\\anaconda3\\lib\\threading.py\", line 932, in _bootstrap_inner\n",
      "17:02:24: Main : before running the thread\n",
      "17:02:24: Main thread : before joining the thread 0 \n",
      "    self.run()\n",
      "  File \"C:\\Users\\dennis\\anaconda3\\lib\\threading.py\", line 870, in run\n",
      "17:02:24: Main : thread 0 done\n",
      "17:02:24: Main thread : before joining the thread 1 \n",
      "NameError17:02:24: Main : thread 1 done\n",
      "    : name 'time' is not defined\n",
      "self._target(*self._args, **self._kwargs)\n",
      "  File \"<ipython-input-2-b5906b674e82>\", line 4, in thread_function\n",
      "17:02:24: Main thread : before joining the thread 2 \n",
      "17:02:24: Main : thread 2 done\n",
      "17:02:24: Main thread : before joining the thread 3 \n",
      "17:02:24: Main : thread 3 done\n",
      "NameError: name 'time' is not defined\n",
      "17:02:24: Main thread : before joining the thread 4 \n",
      "17:02:24: Main : thread 4 done\n"
     ]
    },
    {
     "name": "stdout",
     "output_type": "stream",
     "text": [
      "[<Thread(Thread-9, stopped 10440)>, <Thread(Thread-10, stopped 28768)>, <Thread(Thread-11, stopped 37284)>, <Thread(Thread-12, started 6204)>, <Thread(Thread-13, started 33936)>]\n"
     ]
    }
   ],
   "source": [
    "# Multiple Threading\n",
    "\n",
    "if __name__ == \"__main__\":\n",
    "    format = \"%(asctime)s: %(message)s\"\n",
    "    logging.basicConfig(format=format, level=logging.INFO, datefmt=\"%H:%M:%S\")\n",
    "        \n",
    "    threads = list()\n",
    "    for i in range(5):\n",
    "        logging.info(\"Main : before starting a thread %d\",i)\n",
    "        x = Thread(target=thread_function, args=(i,))\n",
    "        threads.append(x)\n",
    "        \n",
    "        #Start the thread \n",
    "        x.start()\n",
    "        logging.info(\"Main : before running the thread\")\n",
    "    \n",
    "    print(threads)\n",
    "    for index,thread in enumerate(threads):\n",
    "        logging.info(\"Main thread : before joining the thread %d \",index)\n",
    "        thread.join()\n",
    "        logging.info(\"Main : thread %d done\",index)      \n",
    "        "
   ]
  },
  {
   "cell_type": "code",
   "execution_count": 7,
   "metadata": {},
   "outputs": [
    {
     "name": "stderr",
     "output_type": "stream",
     "text": [
      "17:02:24: Thread 0: starting\n",
      "Exception in thread Thread-14:\n",
      "Traceback (most recent call last):\n",
      "  File \"C:\\Users\\dennis\\anaconda3\\lib\\threading.py\", line 932, in _bootstrap_inner\n",
      "17:02:24: Thread 1: starting\n",
      "    self.run()\n",
      "  File \"C:\\Users\\dennis\\anaconda3\\lib\\threading.py\", line 870, in run\n",
      "Exception in thread Thread-15:\n",
      "Traceback (most recent call last):\n",
      "  File \"C:\\Users\\dennis\\anaconda3\\lib\\threading.py\", line 932, in _bootstrap_inner\n",
      "17:02:24: Thread 2: starting\n",
      "Exception in thread Thread-16:\n",
      "Traceback (most recent call last):\n",
      "  File \"C:\\Users\\dennis\\anaconda3\\lib\\threading.py\", line 932, in _bootstrap_inner\n",
      "        self.run()\n",
      "  File \"C:\\Users\\dennis\\anaconda3\\lib\\threading.py\", line 870, in run\n",
      "self._target(*self._args, **self._kwargs)\n",
      "  File \"<ipython-input-2-b5906b674e82>\", line 4, in thread_function\n",
      "    self.run()\n",
      "  File \"C:\\Users\\dennis\\anaconda3\\lib\\threading.py\", line 870, in run\n",
      "    self._target(*self._args, **self._kwargs)\n",
      "  File \"<ipython-input-2-b5906b674e82>\", line 4, in thread_function\n",
      "NameError:     self._target(*self._args, **self._kwargs)name 'time' is not defined\n",
      "\n",
      "  File \"<ipython-input-2-b5906b674e82>\", line 4, in thread_function\n",
      "NameError: name 'time' is not defined\n",
      "NameError: name 'time' is not defined\n"
     ]
    },
    {
     "name": "stdout",
     "output_type": "stream",
     "text": [
      "Main - Creating and started thread 0\n",
      "Main - Creating and started thread 1\n",
      "Main - Creating and started thread 2\n",
      "Main - Before joining thread 0\n",
      "Main - After joining thread 0\n",
      "Main - Before joining thread 1\n",
      "Main - After joining thread 1\n",
      "Main - Before joining thread 2\n",
      "Main - After joining thread 2\n"
     ]
    }
   ],
   "source": [
    "#Another multi thread example \n",
    "threads = [] \n",
    "\n",
    "for index in range(3):\n",
    "    print(\"Main - Creating and started thread \"+ str(index))\n",
    "    t = Thread(target = thread_function, args = (index,))\n",
    "    threads.append(t)\n",
    "    t.start()\n",
    "    \n",
    "for index, thread in enumerate(threads):\n",
    "    print(\"Main - Before joining thread \"+ str(index))\n",
    "    thread.join()\n",
    "    print(\"Main - After joining thread \"+ str(index))"
   ]
  },
  {
   "cell_type": "markdown",
   "metadata": {},
   "source": [
    "### Daemon Threads\n",
    "In computer science, a daemon is a process that runs in the background.\n",
    "\n",
    "Python threading has a more specific meaning for daemon. A daemon thread will shut down immediately when the program exits. One way to think about these definitions is to consider the daemon thread a thread that runs in the background without worrying about shutting it down.\n",
    "\n",
    "If a program is running Threads that are not daemons, then the program will wait for those threads to complete before it terminates. Threads that are daemons, however, are just killed wherever they are when the program is exiting."
   ]
  },
  {
   "cell_type": "code",
   "execution_count": 8,
   "metadata": {},
   "outputs": [
    {
     "name": "stderr",
     "output_type": "stream",
     "text": [
      "17:02:24: Main : before starting a thread\n",
      "17:02:24: Main : before running the thread\n",
      "17:02:24: Thread 1: starting\n",
      "Exception in thread Thread-17:\n",
      "Traceback (most recent call last):\n",
      "  File \"C:\\Users\\dennis\\anaconda3\\lib\\threading.py\", line 932, in _bootstrap_inner\n",
      "17:02:24: Main : wait for the thread to finish\n",
      "    self.run()\n",
      "  File \"C:\\Users\\dennis\\anaconda3\\lib\\threading.py\", line 870, in run\n",
      "    self._target(*self._args, **self._kwargs)\n",
      "  File \"<ipython-input-2-b5906b674e82>\", line 4, in thread_function\n",
      "NameError: name 'time' is not defined\n",
      "17:02:24: Main : All operations are done\n"
     ]
    }
   ],
   "source": [
    "if __name__ == \"__main__\":\n",
    "    format = \"%(asctime)s: %(message)s\"\n",
    "    logging.basicConfig(format=format, level=logging.INFO, datefmt=\"%H:%M:%S\")\n",
    "    logging.info(\"Main : before starting a thread\")\n",
    "    \n",
    "    # Creating instance of thread\n",
    "    x = Thread(target=thread_function, args=(1,), daemon=True)\n",
    "    logging.info(\"Main : before running the thread\")\n",
    "    \n",
    "    # Start the thread\n",
    "    x.start()\n",
    "    logging.info(\"Main : wait for the thread to finish\")\n",
    "    \n",
    "    x.join()\n",
    "    logging.info(\"Main : All operations are done\")"
   ]
  },
  {
   "cell_type": "markdown",
   "metadata": {},
   "source": [
    "### ThreadPoolExecutor\n",
    "Group Threads together. consider as a box where you add threads to. this will manage all your threads. "
   ]
  },
  {
   "cell_type": "code",
   "execution_count": 9,
   "metadata": {},
   "outputs": [],
   "source": [
    "from time import sleep\n",
    "from threading import Thread \n",
    "from concurrent.futures import ThreadPoolExecutor"
   ]
  },
  {
   "cell_type": "code",
   "execution_count": 10,
   "metadata": {},
   "outputs": [],
   "source": [
    "def thread_function(name):\n",
    "    print(\"Thread {0} started\".format(name))\n",
    "    sleep(2)\n",
    "    print(\"Thread {0} ended\".format(name))"
   ]
  },
  {
   "cell_type": "code",
   "execution_count": 11,
   "metadata": {},
   "outputs": [
    {
     "name": "stdout",
     "output_type": "stream",
     "text": [
      "Thread 0 started\n",
      "Thread 1 started\n",
      "Thread 2 started\n",
      "Thread 1 endedThread 0 ended\n",
      "Thread 3 started\n",
      "Thread 2 ended\n",
      "Thread 4 started\n",
      "\n",
      "Thread 5 started\n",
      "Thread 3 endedThread 4 ended\n",
      "Thread 5 ended\n",
      "\n",
      "Done\n"
     ]
    }
   ],
   "source": [
    "with ThreadPoolExecutor(max_workers = 3) as executor:\n",
    "    executor.map(thread_function,range(6))\n",
    "print(\"Done\")"
   ]
  },
  {
   "cell_type": "code",
   "execution_count": 12,
   "metadata": {},
   "outputs": [
    {
     "name": "stdout",
     "output_type": "stream",
     "text": [
      "Thread 1 started\n",
      "Thread 2 started\n",
      "Thread 3 started\n",
      "Thread 1 endedThread 2 ended\n",
      "Thread 4 started\n",
      "\n",
      "Thread 5 started\n",
      "Thread 3 ended\n",
      "Thread 6 started\n",
      "Thread 4 endedThread 5 ended\n",
      "\n",
      "Thread 6 ended\n",
      "Done\n"
     ]
    }
   ],
   "source": [
    "with ThreadPoolExecutor(max_workers = 3) as executor:\n",
    "    executor.submit(thread_function,1)\n",
    "    executor.submit(thread_function,2)\n",
    "    executor.submit(thread_function,3)\n",
    "    executor.submit(thread_function,4)\n",
    "    executor.submit(thread_function,5)\n",
    "    executor.submit(thread_function,6)\n",
    "print(\"Done\")"
   ]
  },
  {
   "cell_type": "markdown",
   "metadata": {},
   "source": [
    "### Lock"
   ]
  },
  {
   "cell_type": "markdown",
   "metadata": {},
   "source": [
    "mutex = mutual exclusion. We allow only one thread to read modify write code at a time\n",
    "\n",
    "lock is like key to open door \n",
    "basic functions: aquire() & .release() "
   ]
  },
  {
   "cell_type": "code",
   "execution_count": 13,
   "metadata": {},
   "outputs": [],
   "source": [
    "from time import sleep\n",
    "from threading import Thread, Lock \n",
    "from concurrent.futures import ThreadPoolExecutor"
   ]
  },
  {
   "cell_type": "code",
   "execution_count": 14,
   "metadata": {},
   "outputs": [],
   "source": [
    "class Counter:\n",
    "    def __init__(self):\n",
    "        self.value = 0\n",
    "    def update(self,name):\n",
    "        print(\"Update started on Thread :\" + str(name)+\" with self.value = \" + str(self.value))\n",
    "        val = self.value\n",
    "        val +=1\n",
    "        self.value = val\n",
    "        print(\"Update ended on Thread :\" + str(name) +\" with self.value = \" + str(self.value))"
   ]
  },
  {
   "cell_type": "code",
   "execution_count": 15,
   "metadata": {},
   "outputs": [
    {
     "name": "stdout",
     "output_type": "stream",
     "text": [
      "Update started on Thread :0 with self.value = 0\n",
      "Update ended on Thread :0 with self.value = 1\n",
      "Update started on Thread :1 with self.value = 1\n",
      "Update ended on Thread :1 with self.value = 2\n",
      "Update started on Thread :2 with self.value = 2\n",
      "Update ended on Thread :2 with self.value = 3\n",
      "Done\n"
     ]
    }
   ],
   "source": [
    "counter = Counter()\n",
    "with ThreadPoolExecutor(max_workers = 3) as executor:\n",
    "    for index in range(3):\n",
    "        executor.submit(counter.update, index)\n",
    "print(\"Done\")"
   ]
  },
  {
   "cell_type": "code",
   "execution_count": 16,
   "metadata": {},
   "outputs": [],
   "source": [
    "class CounterwithRaceCondition:\n",
    "    def __init__(self):\n",
    "        self.value = 0\n",
    "    def update(self,name):\n",
    "        print(\"Update started on Thread :\" + str(name)+\" with self.value = \" + str(self.value))\n",
    "        val = self.value\n",
    "        val +=1\n",
    "        sleep(1)\n",
    "        self.value = val\n",
    "        print(\"Update ended on Thread :\" + str(name) +\" with self.value = \" + str(self.value))\n",
    "        "
   ]
  },
  {
   "cell_type": "code",
   "execution_count": 17,
   "metadata": {},
   "outputs": [
    {
     "name": "stdout",
     "output_type": "stream",
     "text": [
      "Update started on Thread :0 with self.value = 0\n",
      "Update started on Thread :1 with self.value = 0\n",
      "Update started on Thread :2 with self.value = 0\n",
      "Update ended on Thread :1 with self.value = 1Update ended on Thread :2 with self.value = 1Update ended on Thread :0 with self.value = 1\n",
      "\n",
      "\n",
      "Done\n"
     ]
    }
   ],
   "source": [
    "counter = CounterwithRaceCondition()\n",
    "with ThreadPoolExecutor(max_workers = 3) as executor:\n",
    "    for index in range(3):\n",
    "        executor.submit(counter.update, index)\n",
    "print(\"Done\")"
   ]
  },
  {
   "cell_type": "code",
   "execution_count": 18,
   "metadata": {},
   "outputs": [],
   "source": [
    "class CounterwithLock:\n",
    "    def __init__(self):\n",
    "        self.value = 0\n",
    "        self._lock = Lock()\n",
    "    def update(self,name):\n",
    "        print(\"Update started on Thread :\" + str(name)+\" with self.value = \" + str(self.value))\n",
    "        with self._lock:\n",
    "            val = self.value\n",
    "            val +=1\n",
    "            sleep(1)\n",
    "            self.value = val\n",
    "        print(\"Update ended on Thread :\" + str(name) +\" with self.value = \" + str(self.value))\n",
    "        "
   ]
  },
  {
   "cell_type": "code",
   "execution_count": 19,
   "metadata": {},
   "outputs": [
    {
     "name": "stdout",
     "output_type": "stream",
     "text": [
      "Update started on Thread :0 with self.value = 0\n",
      "Update started on Thread :1 with self.value = 0\n",
      "Update started on Thread :2 with self.value = 0\n",
      "Update ended on Thread :0 with self.value = 1\n",
      "Update ended on Thread :1 with self.value = 2\n",
      "Update ended on Thread :2 with self.value = 3\n",
      "Done\n"
     ]
    }
   ],
   "source": [
    "counter = CounterwithLock()\n",
    "with ThreadPoolExecutor(max_workers = 3) as executor:\n",
    "    for index in range(3):\n",
    "        executor.submit(counter.update, index)\n",
    "print(\"Done\")"
   ]
  },
  {
   "cell_type": "code",
   "execution_count": 20,
   "metadata": {},
   "outputs": [],
   "source": [
    "class CounterwithLockAcquire:\n",
    "    def __init__(self):\n",
    "        self.value = 0\n",
    "        self._lock = Lock()\n",
    "    def update(self,name):\n",
    "        print(\"Update started on Thread :\" + str(name)+\" with self.value = \" + str(self.value))\n",
    "        self._lock.acquire()\n",
    "        val = self.value\n",
    "        val +=1\n",
    "        sleep(1)\n",
    "        self.value = val\n",
    "        self._lock.release()\n",
    "        print(\"Update ended on Thread :\" + str(name) +\" with self.value = \" + str(self.value))"
   ]
  },
  {
   "cell_type": "code",
   "execution_count": 21,
   "metadata": {},
   "outputs": [
    {
     "name": "stdout",
     "output_type": "stream",
     "text": [
      "Update started on Thread :0 with self.value = 0\n",
      "Update started on Thread :1 with self.value = 0\n",
      "Update started on Thread :2 with self.value = 0\n",
      "Update ended on Thread :0 with self.value = 1\n",
      "Update ended on Thread :1 with self.value = 2\n",
      "Update ended on Thread :2 with self.value = 3\n",
      "Done\n"
     ]
    }
   ],
   "source": [
    "counter = CounterwithLockAcquire()\n",
    "with ThreadPoolExecutor(max_workers = 3) as executor:\n",
    "    for index in range(3):\n",
    "        executor.submit(counter.update, index)\n",
    "print(\"Done\")\n",
    "    "
   ]
  },
  {
   "cell_type": "code",
   "execution_count": null,
   "metadata": {},
   "outputs": [],
   "source": []
  }
 ],
 "metadata": {
  "kernelspec": {
   "display_name": "Python 3",
   "language": "python",
   "name": "python3"
  },
  "language_info": {
   "codemirror_mode": {
    "name": "ipython",
    "version": 3
   },
   "file_extension": ".py",
   "mimetype": "text/x-python",
   "name": "python",
   "nbconvert_exporter": "python",
   "pygments_lexer": "ipython3",
   "version": "3.8.3"
  }
 },
 "nbformat": 4,
 "nbformat_minor": 4
}
