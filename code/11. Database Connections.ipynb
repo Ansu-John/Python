{
 "cells": [
  {
   "cell_type": "markdown",
   "metadata": {},
   "source": [
    "Python and SQL are two of the most important languages for Data Analysts. You will need to connect to database and execute queries directly against databases. The below python packages can be imported for connecting to DB :\n",
    "\n",
    "\n",
    "| Database | Python Package |\n",
    "| ------ | ------ |\n",
    "| SQL Server | pyodbc |\n",
    "| Oracle | cx_Oracle |\n",
    "| MySQL | mysql.connector |"
   ]
  },
  {
   "cell_type": "code",
   "execution_count": 1,
   "metadata": {},
   "outputs": [],
   "source": [
    "import pyodbc\n",
    "import configparser"
   ]
  },
  {
   "cell_type": "code",
   "execution_count": 2,
   "metadata": {},
   "outputs": [],
   "source": [
    "# Read Connection details from Config file\n",
    "try:\n",
    "    \n",
    "    config = configparser.ConfigParser()\n",
    "    config.read('config.ini')\n",
    "    conn_str = 'Driver={SQL Server};Server=' + config['SQL_DATABASE']['SERVER'] + ';Database=' + config['SQL_DATABASE'][\n",
    "        'DATABASE'] + ';Trusted_Connection=yes;'\n",
    "except Exception:\n",
    "        print(\"Not able to connect to Config file\")  \n",
    "        raise Exception"
   ]
  },
  {
   "cell_type": "code",
   "execution_count": 3,
   "metadata": {},
   "outputs": [],
   "source": [
    "# DB Connection\n",
    "conn = pyodbc.connect(conn_str)\n",
    "cursor = conn.cursor()"
   ]
  },
  {
   "cell_type": "code",
   "execution_count": 4,
   "metadata": {},
   "outputs": [],
   "source": [
    "# Function to take sql query string and optionally parameter values and type of parameter value variable and \n",
    "# execute the query in DB with the parameter value(if needed)\n",
    "\n",
    "def execute_sql(sql,**kwargs):  \n",
    "    dict = {}\n",
    "    for key, value in kwargs.items(): \n",
    "        dict[key] = value\n",
    "\n",
    "    try:\n",
    "        \n",
    "        # if only sql is passed to execute_sql function, then \"not dict\" will be True as kwargs is null and dict is still {}\n",
    "        if(not dict): \n",
    "            cursor.execute(sql)\n",
    "        # if only string parameter values is passed execute single query\n",
    "        elif len(dict)==1:       \n",
    "            cursor.execute(sql,dict[\"val\"])  \n",
    "        # if parameter value type is passed as \"list\" then executemany query \n",
    "        else: \n",
    "            cursor.executemany(sql,dict[\"val\"])\n",
    "    except Exception:\n",
    "        conn.rollback()\n",
    "        print(\"Database connection error\")\n",
    "    else:    \n",
    "        conn.commit()"
   ]
  },
  {
   "cell_type": "code",
   "execution_count": 5,
   "metadata": {},
   "outputs": [],
   "source": [
    "def display_data(sql):\n",
    "    try:\n",
    "        # execute select statement and print results\n",
    "        cursor.execute(sql)\n",
    "        for i in cursor:    \n",
    "            print(i)\n",
    "    except Exception:\n",
    "        print(\"Database connection error\")"
   ]
  },
  {
   "cell_type": "code",
   "execution_count": 6,
   "metadata": {},
   "outputs": [
    {
     "name": "stdout",
     "output_type": "stream",
     "text": [
      "(1, 'cfcd208495d565ef66e7dff9f98764da', 'c81e728d9d4c2f636f067f89cc14862c', '6f4922f45568161a8cdf4ad2299f6d23', 'sneakers', 'desktop', '2019-01-11 09:24:43', 'banner_click', '0')\n",
      "(2, 'c4ca4238a0b923820dcc509a6f75849b', 'eccbc87e4b5ce2fe28308fd9f2a7baf3', '4e732ced3463d06de0ca9a15b6153677', 'sneakers', 'desktop', '2019-01-09 09:38:51', 'banner_show', '0')\n",
      "(3, 'c81e728d9d4c2f636f067f89cc14862c', 'eccbc87e4b5ce2fe28308fd9f2a7baf3', '5c45a86277b8bf17bff6011be5cfb1b9', 'sports_nutrition', 'desktop', '2019-01-09 09:12:45', 'banner_show', '0')\n",
      "(4, 'eccbc87e4b5ce2fe28308fd9f2a7baf3', 'eccbc87e4b5ce2fe28308fd9f2a7baf3', 'fb339ad311d50a229e497085aad219c7', 'company', 'desktop', '2019-01-03 08:58:18', 'banner_show', '0')\n",
      "(5, 'a87ff679a2f3e71d9181a67b7542122c', 'eccbc87e4b5ce2fe28308fd9f2a7baf3', 'fb339ad311d50a229e497085aad219c7', 'company', 'desktop', '2019-01-03 08:59:15', 'banner_click', '0')\n",
      "(6, 'e4da3b7fbbce2345d7772b0674a318d5', 'a87ff679a2f3e71d9181a67b7542122c', '182be0c5cdcd5072bb1864cdee4d3d6e', 'sports_nutrition', 'mobile', '2019-01-14 05:33:39', 'banner_show', '0')\n",
      "(7, '1679091c5a880faf6fb5e6087eb1b2dc', 'e4da3b7fbbce2345d7772b0674a318d5', 'e369853df766fa44e1ed0ff613f563bd', 'sneakers', 'mobile', '2019-03-02 15:10:16', 'banner_show', '0')\n",
      "(8, '8f14e45fceea167a5a36dedd4bea2543', '1679091c5a880faf6fb5e6087eb1b2dc', '1c383cd30b7c298ab50293adfecb7b18', 'sneakers', 'desktop', '2019-02-10 12:19:30', 'banner_show', '0')\n",
      "(9, 'c9f0f895fb98ab9159f51fd0297e236d', '8f14e45fceea167a5a36dedd4bea2543', '17e62166fc8586dfa4d1bc0e1742c08b', 'accessories', 'desktop', '2019-02-06 05:21:08', 'banner_show', '0')\n",
      "(10, '45c48cce2e2d7fbdea1afc51c7c6ad26', '8f14e45fceea167a5a36dedd4bea2543', '2ff279ece91cd2eaae06e449f5a20a0c', 'clothes', 'desktop', '2019-01-24 10:36:13', 'banner_show', '0')\n"
     ]
    }
   ],
   "source": [
    "# Display the data from table\n",
    "display_data(config['SQL_QUERY']['SELECT_QUERY'])"
   ]
  },
  {
   "cell_type": "code",
   "execution_count": 7,
   "metadata": {},
   "outputs": [],
   "source": [
    "# Inserting data \n",
    "val = ('7b13b2203432ed80337f56127a9f1d28', 'fe73f687e5bc5280214e0476b273a5f9', 'f470fdd03234fb2bfe46d29c9f3e4356', 'company', 'mobile', '2020-01-20 22:27:53', 'banner_click', '0')"
   ]
  },
  {
   "cell_type": "code",
   "execution_count": 8,
   "metadata": {},
   "outputs": [],
   "source": [
    "execute_sql(config['SQL_QUERY']['INSERT_QUERY'],val=val)"
   ]
  },
  {
   "cell_type": "code",
   "execution_count": 9,
   "metadata": {},
   "outputs": [],
   "source": [
    "# Inserting multiple data \n",
    "val = [('7b13b2203029ed8043f56127a9f1d28', 'fe73f687e5bc7678784e0476b273a5f9', 'f470fdd03171fb2bfe46d29c9f3e4356', 'company', 'mobile', '2020-01-20 22:27:53', 'banner_click', '0'),\n",
    "('7b13b2203029ed88767f56127a9f1d28', 'fe73f687e5bc5674534e0476b273a5f9', 'f470fdd03171fb2bfe46d29c9f3e4356', 'company', 'mobile', '2020-01-20 22:27:53', 'banner_click', '0')]"
   ]
  },
  {
   "cell_type": "code",
   "execution_count": 10,
   "metadata": {},
   "outputs": [],
   "source": [
    "execute_sql(config['SQL_QUERY']['INSERT_QUERY'],val = val,vtype = 'list')"
   ]
  },
  {
   "cell_type": "code",
   "execution_count": 11,
   "metadata": {},
   "outputs": [
    {
     "name": "stdout",
     "output_type": "stream",
     "text": [
      "(8471236, '7b13b2203432ed80337f56127a9f1d28', 'fe73f687e5bc5280214e0476b273a5f9', 'f470fdd03234fb2bfe46d29c9f3e4356', 'company', 'mobile', '2020-01-20 22:27:53', 'banner_click', '0')\n",
      "(8471237, '7b13b2203029ed8043f56127a9f1d28', 'fe73f687e5bc7678784e0476b273a5f9', 'f470fdd03171fb2bfe46d29c9f3e4356', 'company', 'mobile', '2020-01-20 22:27:53', 'banner_click', '0')\n",
      "(8471238, '7b13b2203029ed88767f56127a9f1d28', 'fe73f687e5bc5674534e0476b273a5f9', 'f470fdd03171fb2bfe46d29c9f3e4356', 'company', 'mobile', '2020-01-20 22:27:53', 'banner_click', '0')\n",
      "(8471239, '7b13b2203432ed80337f56127a9f1d28', 'fe73f687e5bc5280214e0476b273a5f9', 'f470fdd03234fb2bfe46d29c9f3e4356', 'company', 'mobile', '2020-01-20 22:27:53', 'banner_click', '0')\n",
      "(8471240, '7b13b2203029ed8043f56127a9f1d28', 'fe73f687e5bc7678784e0476b273a5f9', 'f470fdd03171fb2bfe46d29c9f3e4356', 'company', 'mobile', '2020-01-20 22:27:53', 'banner_click', '0')\n",
      "(8471241, '7b13b2203029ed88767f56127a9f1d28', 'fe73f687e5bc5674534e0476b273a5f9', 'f470fdd03171fb2bfe46d29c9f3e4356', 'company', 'mobile', '2020-01-20 22:27:53', 'banner_click', '0')\n"
     ]
    }
   ],
   "source": [
    "# Verifying data before deletion\n",
    "display_data(config['SQL_QUERY']['VERIFY_DELETE_QUERY'])"
   ]
  },
  {
   "cell_type": "code",
   "execution_count": 12,
   "metadata": {},
   "outputs": [],
   "source": [
    "# Deleting data \n",
    "execute_sql(config['SQL_QUERY']['DELETE_QUERY'])"
   ]
  },
  {
   "cell_type": "code",
   "execution_count": 13,
   "metadata": {},
   "outputs": [],
   "source": [
    "# Verifying data after deletion\n",
    "display_data(config['SQL_QUERY']['VERIFY_DELETE_QUERY'])"
   ]
  },
  {
   "cell_type": "code",
   "execution_count": 14,
   "metadata": {},
   "outputs": [],
   "source": [
    "conn.close()"
   ]
  }
 ],
 "metadata": {
  "kernelspec": {
   "display_name": "Python 3",
   "language": "python",
   "name": "python3"
  },
  "language_info": {
   "codemirror_mode": {
    "name": "ipython",
    "version": 3
   },
   "file_extension": ".py",
   "mimetype": "text/x-python",
   "name": "python",
   "nbconvert_exporter": "python",
   "pygments_lexer": "ipython3",
   "version": "3.8.3"
  }
 },
 "nbformat": 4,
 "nbformat_minor": 4
}
