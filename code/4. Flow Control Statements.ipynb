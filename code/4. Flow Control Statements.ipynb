{
 "cells": [
  {
   "cell_type": "markdown",
   "metadata": {},
   "source": [
    "# Conditional Statements \n",
    "\n",
    "These are statements which are used to change the flow of execution when a provided condition is True or False.\n",
    "\n",
    "## if "
   ]
  },
  {
   "cell_type": "code",
   "execution_count": 1,
   "metadata": {},
   "outputs": [
    {
     "name": "stdout",
     "output_type": "stream",
     "text": [
      "Please enter an interger: 101\n",
      "Big number\n"
     ]
    }
   ],
   "source": [
    "x = int(input(\"Please enter an interger: \"))\n",
    "if x < 0:\n",
    "    print(\"Negative number\")\n",
    "elif x < 10:\n",
    "    print(\"Single digit number\")\n",
    "elif x < 100:\n",
    "    print(\"Double digit number\")\n",
    "else:\n",
    "    print(\"Big number\")"
   ]
  },
  {
   "cell_type": "markdown",
   "metadata": {},
   "source": [
    "# Looping Statements \n",
    "\n",
    "Looping is the process in which we have a list of statements that executes repeatedly until it satisfies a condition. Python has two primitive loop commands:\n",
    "\n",
    "+ for loops\n",
    "+ while loops\n",
    "\n",
    "## For \n",
    "\n",
    "A for loop is used for iterating over a sequence (that is either a list, a tuple, a dictionary, a set, or a string). With the for loop we can execute a set of statements, once for each item in a list, tuple, set etc."
   ]
  },
  {
   "cell_type": "code",
   "execution_count": 2,
   "metadata": {},
   "outputs": [
    {
     "name": "stdout",
     "output_type": "stream",
     "text": [
      "apple\n",
      "banana\n",
      "cherry\n"
     ]
    }
   ],
   "source": [
    "#Print each fruit in a fruit list\n",
    "fruits = [\"apple\", \"banana\", \"cherry\"]\n",
    "for x in fruits:\n",
    "    print(x)"
   ]
  },
  {
   "cell_type": "code",
   "execution_count": 3,
   "metadata": {},
   "outputs": [
    {
     "name": "stdout",
     "output_type": "stream",
     "text": [
      "t\n",
      "e\n",
      "s\n",
      "t\n"
     ]
    }
   ],
   "source": [
    "#Loop through the letters in the word \"test\":\n",
    "for x in \"test\":\n",
    "    print(x)"
   ]
  },
  {
   "cell_type": "markdown",
   "metadata": {},
   "source": [
    "### range\n",
    "\n",
    "The range() function returns a sequence of numbers, starting from 0 by default, and increments by 1 (by default), and stops before a specified number.\n",
    "\n",
    "```\n",
    "range(start, stop, step)\n",
    "```\n",
    "\n",
    "where \n",
    "+ start --> Optional. An integer number specifying at which position to start. Default is 0\n",
    "+ stop --> Required. An integer number specifying at which position to stop (not included).\n",
    "+ step --> Optional. An integer number specifying the incrementation. Default is 1"
   ]
  },
  {
   "cell_type": "code",
   "execution_count": 4,
   "metadata": {},
   "outputs": [
    {
     "name": "stdout",
     "output_type": "stream",
     "text": [
      "2\n",
      "4\n",
      "6\n",
      "8\n",
      "10\n"
     ]
    }
   ],
   "source": [
    "for x in range(1, 10, 2):\n",
    "    print(x+1)"
   ]
  },
  {
   "cell_type": "code",
   "execution_count": 5,
   "metadata": {},
   "outputs": [
    {
     "name": "stdout",
     "output_type": "stream",
     "text": [
      "1 2 3 4 5 6 7 8 9 10 "
     ]
    }
   ],
   "source": [
    "for x in range(0,10):\n",
    "    print(x+1, end=\" \")"
   ]
  },
  {
   "cell_type": "markdown",
   "metadata": {},
   "source": [
    "### items\n",
    "\n",
    "When looping through dictionaries, the key and corresponding value can be retrieved at the same time using the items() method"
   ]
  },
  {
   "cell_type": "code",
   "execution_count": 6,
   "metadata": {},
   "outputs": [
    {
     "name": "stdout",
     "output_type": "stream",
     "text": [
      "gallahad the pure\n",
      "robin the brave\n"
     ]
    }
   ],
   "source": [
    "knights = {'gallahad': 'the pure', 'robin': 'the brave'}\n",
    "for k, v in knights.items():\n",
    "    print(k, v)"
   ]
  },
  {
   "cell_type": "markdown",
   "metadata": {},
   "source": [
    "### enumerate\n",
    "\n",
    "When looping through a sequence, the position index and corresponding value can be retrieved at the same time using the enumerate() function"
   ]
  },
  {
   "cell_type": "code",
   "execution_count": 7,
   "metadata": {},
   "outputs": [
    {
     "name": "stdout",
     "output_type": "stream",
     "text": [
      "0 tic\n",
      "1 tac\n",
      "2 toe\n"
     ]
    }
   ],
   "source": [
    "for i, v in enumerate(['tic', 'tac', 'toe']):\n",
    "    print(i, v)"
   ]
  },
  {
   "cell_type": "markdown",
   "metadata": {},
   "source": [
    "### zip\n",
    "\n",
    "To loop over two or more sequences at the same time, the entries can be paired with the zip() function."
   ]
  },
  {
   "cell_type": "code",
   "execution_count": 8,
   "metadata": {},
   "outputs": [
    {
     "name": "stdout",
     "output_type": "stream",
     "text": [
      "What is your name?  It is lancelot.\n",
      "What is your quest?  It is the holy grail.\n",
      "What is your favorite color?  It is blue.\n"
     ]
    }
   ],
   "source": [
    "questions = ['name', 'quest', 'favorite color']\n",
    "answers = ['lancelot', 'the holy grail', 'blue']\n",
    "for q, a in zip(questions, answers):\n",
    "    print('What is your {0}?  It is {1}.'.format(q, a))"
   ]
  },
  {
   "cell_type": "markdown",
   "metadata": {},
   "source": [
    "### reversed\n",
    "\n",
    "To loop over a sequence in reverse, first specify the sequence in a forward direction and then call the reversed() function."
   ]
  },
  {
   "cell_type": "code",
   "execution_count": 9,
   "metadata": {},
   "outputs": [
    {
     "name": "stdout",
     "output_type": "stream",
     "text": [
      "9\n",
      "7\n",
      "5\n",
      "3\n",
      "1\n"
     ]
    }
   ],
   "source": [
    "for i in reversed(range(1, 10, 2)):\n",
    "    print(i)"
   ]
  },
  {
   "cell_type": "markdown",
   "metadata": {},
   "source": [
    "### sorted\n",
    "\n",
    "To loop over a sequence in sorted order, use the sorted() function which returns a new sorted list while leaving the source unaltered."
   ]
  },
  {
   "cell_type": "code",
   "execution_count": 10,
   "metadata": {},
   "outputs": [
    {
     "name": "stdout",
     "output_type": "stream",
     "text": [
      "apple\n",
      "banana\n",
      "orange\n",
      "pear\n"
     ]
    }
   ],
   "source": [
    "basket = ['apple', 'orange', 'apple', 'pear', 'orange', 'banana']\n",
    "for f in sorted(set(basket)):\n",
    "    print(f)"
   ]
  },
  {
   "cell_type": "markdown",
   "metadata": {},
   "source": [
    "### else in for loop\n",
    "\n",
    "The else keyword in a for loop specifies a block of code to be executed when the loop is finished."
   ]
  },
  {
   "cell_type": "code",
   "execution_count": 11,
   "metadata": {},
   "outputs": [
    {
     "name": "stdout",
     "output_type": "stream",
     "text": [
      "0\n",
      "1\n",
      "2\n",
      "3\n",
      "4\n",
      "5\n",
      "Finally finished!\n"
     ]
    }
   ],
   "source": [
    "for x in range(6):\n",
    "    print(x)\n",
    "else:\n",
    "    print(\"Finally finished!\")"
   ]
  },
  {
   "cell_type": "markdown",
   "metadata": {},
   "source": [
    "## Single Line For Loops\n",
    "\n",
    "Sometimes you just don’t want to take up the multiple lines required to write out the full for loop for some simple thing. In such cases we can use list comprehension in Python. List comprehensions are lists that generate themselves with an internal for loop. They’re a very common feature in Python and they look something like:\n",
    "\n",
    "```\n",
    "[thing for thing in list_of_things]\n",
    "```\n",
    "\n",
    "Thus the below function\n",
    "\n",
    "```\n",
    "def list_doubler(lst):\n",
    "    doubled = []\n",
    "    for num in lst:\n",
    "        doubled.append(num*2)\n",
    "    return doubled\n",
    "```\n",
    "\n",
    "Can be simplified to   \n",
    "\n",
    "```\n",
    "def list_doubler(lst):\n",
    "    return [num * 2 for num in lst]\n",
    "```"
   ]
  },
  {
   "cell_type": "code",
   "execution_count": 12,
   "metadata": {},
   "outputs": [
    {
     "name": "stdout",
     "output_type": "stream",
     "text": [
      "<generator object <genexpr> at 0x000001D650261CF0>\n"
     ]
    }
   ],
   "source": [
    "print(x+1 for x in range(0,10))"
   ]
  },
  {
   "cell_type": "code",
   "execution_count": 13,
   "metadata": {},
   "outputs": [
    {
     "name": "stdout",
     "output_type": "stream",
     "text": [
      "1 2 3 4 5 6 7 8 9 10 "
     ]
    }
   ],
   "source": [
    "num = [x+1 for x in range(0,10)]\n",
    "for x in num:\n",
    "    print(x, end=\" \")"
   ]
  },
  {
   "cell_type": "markdown",
   "metadata": {},
   "source": [
    "### break \n",
    "\n",
    "With the break statement we can stop the loop even if the while condition is true. "
   ]
  },
  {
   "cell_type": "code",
   "execution_count": 14,
   "metadata": {},
   "outputs": [
    {
     "name": "stdout",
     "output_type": "stream",
     "text": [
      "1 2 3 "
     ]
    }
   ],
   "source": [
    "num = [x+1 for x in range(0,10)]\n",
    "for x in num:\n",
    "    if(x == 4):\n",
    "        break\n",
    "    print(x, end=\" \")"
   ]
  },
  {
   "cell_type": "markdown",
   "metadata": {},
   "source": [
    "### continue\n",
    "\n",
    "With the continue statement we can stop the current iteration, and continue with the next."
   ]
  },
  {
   "cell_type": "code",
   "execution_count": 15,
   "metadata": {},
   "outputs": [
    {
     "name": "stdout",
     "output_type": "stream",
     "text": [
      "4 5 6 7 8 9 10 "
     ]
    }
   ],
   "source": [
    "num = [x+1 for x in range(0,10)]\n",
    "for x in num:\n",
    "    if(x < 4):\n",
    "        continue\n",
    "    print(x, end=\" \")"
   ]
  },
  {
   "cell_type": "markdown",
   "metadata": {},
   "source": [
    "## While\n",
    "\n",
    "With the while loop we can execute a set of statements as long as a condition is true."
   ]
  },
  {
   "cell_type": "code",
   "execution_count": 16,
   "metadata": {},
   "outputs": [
    {
     "name": "stdout",
     "output_type": "stream",
     "text": [
      "10 9 8 7 6 5 4 3 2 1 "
     ]
    }
   ],
   "source": [
    "a = 10\n",
    "while a!=0:\n",
    "    print(a, end=\" \")\n",
    "    a-=1"
   ]
  },
  {
   "cell_type": "markdown",
   "metadata": {},
   "source": [
    "### pass \n",
    "\n",
    "The pass statement does nothing. It can be used when a statement is required syntactically but the program requires no action.\n",
    "This is commonly used for creating minimal classes (Class definitions cannot be empty, but if you for some reason have a class definition with no content, put in the pass statement to avoid getting an error.):\n",
    "```\n",
    "class MyEmptyClass:\n",
    "     pass\n",
    "```\n",
    "Or as a place-holder for a function or conditional body when you are working on new code, allowing you to keep thinking at a more abstract level. The pass is silently ignored\n",
    "```\n",
    "def initlog(*args):\n",
    "     pass   # Remember to implement this!\n",
    "```"
   ]
  },
  {
   "cell_type": "code",
   "execution_count": 17,
   "metadata": {},
   "outputs": [],
   "source": [
    "while True:\n",
    "    pass\n",
    "    break # To break after first execution"
   ]
  }
 ],
 "metadata": {
  "kernelspec": {
   "display_name": "Python 3",
   "language": "python",
   "name": "python3"
  },
  "language_info": {
   "codemirror_mode": {
    "name": "ipython",
    "version": 3
   },
   "file_extension": ".py",
   "mimetype": "text/x-python",
   "name": "python",
   "nbconvert_exporter": "python",
   "pygments_lexer": "ipython3",
   "version": "3.8.3"
  }
 },
 "nbformat": 4,
 "nbformat_minor": 4
}
